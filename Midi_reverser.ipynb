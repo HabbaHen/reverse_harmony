{
 "cells": [
  {
   "cell_type": "code",
   "execution_count": 1,
   "id": "0251f8a2",
   "metadata": {
    "ExecuteTime": {
     "end_time": "2024-06-03T18:45:37.236548739Z",
     "start_time": "2024-06-03T18:42:19.905140439Z"
    }
   },
   "outputs": [
    {
     "name": "stdout",
     "output_type": "stream",
     "text": [
      "Collecting pydub\r\n",
      "  Downloading pydub-0.25.1-py2.py3-none-any.whl.metadata (1.4 kB)\r\n",
      "Downloading pydub-0.25.1-py2.py3-none-any.whl (32 kB)\r\n",
      "Installing collected packages: pydub\r\n",
      "Successfully installed pydub-0.25.1\r\n",
      "Collecting pandas\r\n",
      "  Downloading pandas-2.2.2-cp311-cp311-manylinux_2_17_x86_64.manylinux2014_x86_64.whl.metadata (19 kB)\r\n",
      "Collecting numpy>=1.23.2 (from pandas)\r\n",
      "  Downloading numpy-1.26.4-cp311-cp311-manylinux_2_17_x86_64.manylinux2014_x86_64.whl.metadata (61 kB)\r\n",
      "\u001B[2K     \u001B[90m━━━━━━━━━━━━━━━━━━━━━━━━━━━━━━━━━━━━━━━\u001B[0m \u001B[32m61.0/61.0 kB\u001B[0m \u001B[31m389.1 kB/s\u001B[0m eta \u001B[36m0:00:00\u001B[0ma \u001B[36m0:00:01\u001B[0m\r\n",
      "\u001B[?25hRequirement already satisfied: python-dateutil>=2.8.2 in /home/cosiska/miniconda3/lib/python3.11/site-packages (from pandas) (2.9.0)\r\n",
      "Requirement already satisfied: pytz>=2020.1 in /home/cosiska/miniconda3/lib/python3.11/site-packages (from pandas) (2024.1)\r\n",
      "Collecting tzdata>=2022.7 (from pandas)\r\n",
      "  Downloading tzdata-2024.1-py2.py3-none-any.whl.metadata (1.4 kB)\r\n",
      "Requirement already satisfied: six>=1.5 in /home/cosiska/miniconda3/lib/python3.11/site-packages (from python-dateutil>=2.8.2->pandas) (1.16.0)\r\n",
      "Downloading pandas-2.2.2-cp311-cp311-manylinux_2_17_x86_64.manylinux2014_x86_64.whl (13.0 MB)\r\n",
      "\u001B[2K   \u001B[90m━━━━━━━━━━━━━━━━━━━━━━━━━━━━━━━━━━━━━━━━\u001B[0m \u001B[32m13.0/13.0 MB\u001B[0m \u001B[31m231.3 kB/s\u001B[0m eta \u001B[36m0:00:00\u001B[0m00:01\u001B[0m00:02\u001B[0m\r\n",
      "\u001B[?25hDownloading numpy-1.26.4-cp311-cp311-manylinux_2_17_x86_64.manylinux2014_x86_64.whl (18.3 MB)\r\n",
      "\u001B[2K   \u001B[90m━━━━━━━━━━━━━━━━━━━━━━━━━━━━━━━━━━━━━━━━\u001B[0m \u001B[32m18.3/18.3 MB\u001B[0m \u001B[31m195.9 kB/s\u001B[0m eta \u001B[36m0:00:00\u001B[0m00:01\u001B[0m00:03\u001B[0m\r\n",
      "\u001B[?25hDownloading tzdata-2024.1-py2.py3-none-any.whl (345 kB)\r\n",
      "\u001B[2K   \u001B[90m━━━━━━━━━━━━━━━━━━━━━━━━━━━━━━━━━━━━━━━━\u001B[0m \u001B[32m345.4/345.4 kB\u001B[0m \u001B[31m1.2 MB/s\u001B[0m eta \u001B[36m0:00:00\u001B[0ma \u001B[36m0:00:01\u001B[0mm\r\n",
      "\u001B[?25hInstalling collected packages: tzdata, numpy, pandas\r\n",
      "Successfully installed numpy-1.26.4 pandas-2.2.2 tzdata-2024.1\r\n",
      "Requirement already satisfied: numpy in /home/cosiska/miniconda3/lib/python3.11/site-packages (1.26.4)\r\n"
     ]
    }
   ],
   "source": [
    "!pip install pydub\n",
    "!pip install pandas\n",
    "!pip install numpy"
   ]
  },
  {
   "cell_type": "code",
   "execution_count": 2,
   "id": "80082cf7",
   "metadata": {
    "ExecuteTime": {
     "end_time": "2024-06-03T18:46:51.835407901Z",
     "start_time": "2024-06-03T18:46:49.262196185Z"
    }
   },
   "outputs": [
    {
     "name": "stdout",
     "output_type": "stream",
     "text": [
      "Collecting midi2audio\r\n",
      "  Downloading midi2audio-0.1.1-py2.py3-none-any.whl.metadata (5.7 kB)\r\n",
      "Downloading midi2audio-0.1.1-py2.py3-none-any.whl (8.7 kB)\r\n",
      "Installing collected packages: midi2audio\r\n",
      "Successfully installed midi2audio-0.1.1\r\n"
     ]
    }
   ],
   "source": [
    "!pip install midi2audio"
   ]
  },
  {
   "cell_type": "code",
   "execution_count": 3,
   "id": "d75244f9-701c-4b73-a425-e7fd4e86ce7d",
   "metadata": {
    "ExecuteTime": {
     "end_time": "2024-06-03T18:47:11.545574213Z",
     "start_time": "2024-06-03T18:46:53.857143615Z"
    }
   },
   "outputs": [
    {
     "name": "stdout",
     "output_type": "stream",
     "text": [
      "Collecting pretty_midi\r\n",
      "  Downloading pretty_midi-0.2.10.tar.gz (5.6 MB)\r\n",
      "\u001B[2K     \u001B[90m━━━━━━━━━━━━━━━━━━━━━━━━━━━━━━━━━━━━━━━━\u001B[0m \u001B[32m5.6/5.6 MB\u001B[0m \u001B[31m397.4 kB/s\u001B[0m eta \u001B[36m0:00:00\u001B[0m00:01\u001B[0m00:01\u001B[0m\r\n",
      "\u001B[?25h  Preparing metadata (setup.py) ... \u001B[?25ldone\r\n",
      "\u001B[?25hRequirement already satisfied: numpy>=1.7.0 in /home/cosiska/miniconda3/lib/python3.11/site-packages (from pretty_midi) (1.26.4)\r\n",
      "Collecting mido>=1.1.16 (from pretty_midi)\r\n",
      "  Downloading mido-1.3.2-py3-none-any.whl.metadata (6.4 kB)\r\n",
      "Requirement already satisfied: six in /home/cosiska/miniconda3/lib/python3.11/site-packages (from pretty_midi) (1.16.0)\r\n",
      "Requirement already satisfied: packaging~=23.1 in /home/cosiska/miniconda3/lib/python3.11/site-packages (from mido>=1.1.16->pretty_midi) (23.2)\r\n",
      "Downloading mido-1.3.2-py3-none-any.whl (54 kB)\r\n",
      "\u001B[2K   \u001B[90m━━━━━━━━━━━━━━━━━━━━━━━━━━━━━━━━━━━━━━━━\u001B[0m \u001B[32m54.6/54.6 kB\u001B[0m \u001B[31m547.5 kB/s\u001B[0m eta \u001B[36m0:00:00\u001B[0ma \u001B[36m0:00:01\u001B[0m\r\n",
      "\u001B[?25hBuilding wheels for collected packages: pretty_midi\r\n",
      "  Building wheel for pretty_midi (setup.py) ... \u001B[?25ldone\r\n",
      "\u001B[?25h  Created wheel for pretty_midi: filename=pretty_midi-0.2.10-py3-none-any.whl size=5592287 sha256=139a45c88d17587e1c190dc27da3e8e2fab480e7b53087f53716afce4c0544e4\r\n",
      "  Stored in directory: /home/cosiska/.cache/pip/wheels/e6/95/ac/15ceaeb2823b04d8e638fd1495357adb8d26c00ccac9d7782e\r\n",
      "Successfully built pretty_midi\r\n",
      "Installing collected packages: mido, pretty_midi\r\n",
      "Successfully installed mido-1.3.2 pretty_midi-0.2.10\r\n"
     ]
    }
   ],
   "source": [
    "!pip install pretty_midi"
   ]
  },
  {
   "cell_type": "code",
   "execution_count": 4,
   "id": "68a53222",
   "metadata": {
    "ExecuteTime": {
     "end_time": "2024-06-03T18:47:24.000949685Z",
     "start_time": "2024-06-03T18:47:23.761120220Z"
    }
   },
   "outputs": [],
   "source": [
    "import time\n",
    "import numpy\n",
    "from midi2audio import FluidSynth\n",
    "import pretty_midi\n",
    "import pandas as pd\n",
    "from pydub import AudioSegment\n",
    "import subprocess\n",
    "import mido"
   ]
  },
  {
   "cell_type": "code",
   "execution_count": 5,
   "id": "bbebe58c",
   "metadata": {
    "ExecuteTime": {
     "end_time": "2024-06-03T18:47:28.513281417Z",
     "start_time": "2024-06-03T18:47:28.381748801Z"
    }
   },
   "outputs": [
    {
     "name": "stdout",
     "output_type": "stream",
     "text": [
      "done!\n"
     ]
    }
   ],
   "source": [
    "def reverse_midi(name, shift):\n",
    "    midi_data = pretty_midi.PrettyMIDI(name + '.mid')\n",
    "    notes_by_instruments = dict()\n",
    "    instrument_number = 0\n",
    "    instrument_types = dict()\n",
    "    min = 127\n",
    "    max = 0\n",
    "    for instrument in midi_data.instruments:\n",
    "        instrument_types[instrument_number] = instrument.program\n",
    "        partiture = []\n",
    "        for note in instrument.notes:\n",
    "            partiture.append([note.pitch, note.start, note.end, note.velocity])\n",
    "            if max < note.pitch:\n",
    "                max = note.pitch\n",
    "            if min > note.pitch:\n",
    "                min = note.pitch \n",
    "        notes_by_instruments[instrument_number] = partiture\n",
    "        instrument_number += 1\n",
    "    \n",
    "    reversed_midi = pretty_midi.PrettyMIDI()\n",
    "    for instrument_number in instrument_types:\n",
    "        partiture = pretty_midi.Instrument(program=instrument_types[instrument_number])\n",
    "        for row in notes_by_instruments[instrument_number]:\n",
    "            note = pretty_midi.Note(\n",
    "                velocity = int(row[3]),\n",
    "                pitch = int(max + min + shift - row[0]),\n",
    "                start = float(row[1]),\n",
    "                end = float(row[2]))\n",
    "            partiture.notes.append(note)\n",
    "        reversed_midi.instruments.append(partiture)\n",
    "        \n",
    "    reversed_midi.write(name + 'Reversed.mid')\n",
    "\n",
    "    \n",
    "# here input name of midi file and shift in half-tones\n",
    "song_name = 'ThemeB'\n",
    "reverse_midi(song_name, 16)\n",
    "print('done!')"
   ]
  },
  {
   "cell_type": "code",
   "execution_count": 7,
   "id": "47167f96",
   "metadata": {
    "ExecuteTime": {
     "end_time": "2024-06-03T18:47:48.141450526Z",
     "start_time": "2024-06-03T18:47:45.354942504Z"
    }
   },
   "outputs": [
    {
     "name": "stderr",
     "output_type": "stream",
     "text": [
      "fluidsynth: warning: Instrument 'Honkytonk Piano': Some invalid generators were discarded\n"
     ]
    },
    {
     "name": "stdout",
     "output_type": "stream",
     "text": [
      "FluidSynth runtime version 2.2.5\n",
      "Copyright (C) 2000-2022 Peter Hanappe and others.\n",
      "Distributed under the LGPL license.\n",
      "SoundFont(R) is a registered trademark of Creative Technology Ltd.\n",
      "\n",
      "Rendering audio to file 'InTheEnd.wav'..\n"
     ]
    }
   ],
   "source": [
    "# Conversion\n",
    "fs = FluidSynth('weedsgm3.sf2')\n",
    "fs.midi_to_audio('InTheEnd.mid', 'InTheEnd.wav')"
   ]
  },
  {
   "cell_type": "code",
   "execution_count": 8,
   "id": "c3ffcdd4",
   "metadata": {
    "ExecuteTime": {
     "end_time": "2024-06-03T18:47:55.534762306Z",
     "start_time": "2024-06-03T18:47:52.874065179Z"
    }
   },
   "outputs": [
    {
     "name": "stdout",
     "output_type": "stream",
     "text": [
      "Conversion finished!\n"
     ]
    }
   ],
   "source": [
    "AudioSegment.from_wav('InTheEnd.wav').export('InTheEnd.mp3', format=\"mp3\")\n",
    "print(\"Conversion finished!\")"
   ]
  },
  {
   "cell_type": "code",
   "execution_count": null,
   "id": "ab4b5f72",
   "metadata": {},
   "outputs": [],
   "source": []
  },
  {
   "cell_type": "code",
   "execution_count": null,
   "id": "4e9b42ba",
   "metadata": {},
   "outputs": [],
   "source": []
  }
 ],
 "metadata": {
  "kernelspec": {
   "display_name": "Python 3 (ipykernel)",
   "language": "python",
   "name": "python3"
  },
  "language_info": {
   "codemirror_mode": {
    "name": "ipython",
    "version": 3
   },
   "file_extension": ".py",
   "mimetype": "text/x-python",
   "name": "python",
   "nbconvert_exporter": "python",
   "pygments_lexer": "ipython3",
   "version": "3.10.12"
  }
 },
 "nbformat": 4,
 "nbformat_minor": 5
}

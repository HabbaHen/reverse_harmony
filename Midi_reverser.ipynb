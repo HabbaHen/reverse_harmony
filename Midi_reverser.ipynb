{
 "cells": [
  {
   "cell_type": "code",
   "execution_count": 1,
   "id": "0251f8a2",
   "metadata": {},
   "outputs": [
    {
     "name": "stdout",
     "output_type": "stream",
     "text": [
      "Defaulting to user installation because normal site-packages is not writeable\n",
      "Requirement already satisfied: pydub in /home/cosiska/.local/lib/python3.10/site-packages (0.25.1)\n",
      "Defaulting to user installation because normal site-packages is not writeable\n",
      "Collecting pandas\n",
      "  Downloading pandas-2.2.2-cp310-cp310-manylinux_2_17_x86_64.manylinux2014_x86_64.whl (13.0 MB)\n",
      "\u001b[2K     \u001b[38;2;114;156;31m━━━━━━━━━━━━━━━━━━━━━━━━━━━━━━━━━━━━━━━━\u001b[0m \u001b[32m13.0/13.0 MB\u001b[0m \u001b[31m1.6 MB/s\u001b[0m eta \u001b[36m0:00:00\u001b[0mm eta \u001b[36m0:00:01\u001b[0m[36m0:00:01\u001b[0mm\n",
      "\u001b[?25hRequirement already satisfied: python-dateutil>=2.8.2 in /home/cosiska/.local/lib/python3.10/site-packages (from pandas) (2.9.0.post0)\n",
      "Requirement already satisfied: numpy>=1.22.4 in /home/cosiska/.local/lib/python3.10/site-packages (from pandas) (1.26.2)\n",
      "Requirement already satisfied: pytz>=2020.1 in /usr/lib/python3/dist-packages (from pandas) (2022.1)\n",
      "Collecting tzdata>=2022.7\n",
      "  Downloading tzdata-2024.1-py2.py3-none-any.whl (345 kB)\n",
      "\u001b[2K     \u001b[38;2;114;156;31m━━━━━━━━━━━━━━━━━━━━━━━━━━━━━━━━━━━━━━━\u001b[0m \u001b[32m345.4/345.4 KB\u001b[0m \u001b[31m2.7 MB/s\u001b[0m eta \u001b[36m0:00:00\u001b[0m MB/s\u001b[0m eta \u001b[36m0:00:01\u001b[0m:01\u001b[0m\n",
      "\u001b[?25hRequirement already satisfied: six>=1.5 in /usr/lib/python3/dist-packages (from python-dateutil>=2.8.2->pandas) (1.16.0)\n",
      "Installing collected packages: tzdata, pandas\n",
      "Successfully installed pandas-2.2.2 tzdata-2024.1\n"
     ]
    }
   ],
   "source": [
    "!pip install pydub\n",
    "!pip install pandas\n",
    "!pip install numpy"
   ]
  },
  {
   "cell_type": "code",
   "execution_count": 2,
   "id": "80082cf7",
   "metadata": {},
   "outputs": [
    {
     "name": "stdout",
     "output_type": "stream",
     "text": [
      "Defaulting to user installation because normal site-packages is not writeable\n",
      "Requirement already satisfied: midi2audio in /home/cosiska/.local/lib/python3.10/site-packages (0.1.1)\n"
     ]
    }
   ],
   "source": [
    "!pip install midi2audio"
   ]
  },
  {
   "cell_type": "code",
   "execution_count": 3,
   "id": "d75244f9-701c-4b73-a425-e7fd4e86ce7d",
   "metadata": {},
   "outputs": [
    {
     "name": "stdout",
     "output_type": "stream",
     "text": [
      "Defaulting to user installation because normal site-packages is not writeable\n",
      "Requirement already satisfied: pretty_midi in /home/cosiska/.local/lib/python3.10/site-packages (0.2.10)\n",
      "Requirement already satisfied: numpy>=1.7.0 in /home/cosiska/.local/lib/python3.10/site-packages (from pretty_midi) (1.26.2)\n",
      "Requirement already satisfied: six in /usr/lib/python3/dist-packages (from pretty_midi) (1.16.0)\n",
      "Requirement already satisfied: mido>=1.1.16 in /home/cosiska/.local/lib/python3.10/site-packages (from pretty_midi) (1.3.2)\n",
      "Requirement already satisfied: packaging~=23.1 in /home/cosiska/.local/lib/python3.10/site-packages (from mido>=1.1.16->pretty_midi) (23.2)\n"
     ]
    }
   ],
   "source": [
    "!pip install pretty_midi"
   ]
  },
  {
   "cell_type": "code",
   "execution_count": 4,
   "id": "68a53222",
   "metadata": {},
   "outputs": [],
   "source": [
    "import time\n",
    "import numpy\n",
    "from midi2audio import FluidSynth\n",
    "import pretty_midi\n",
    "import pandas as pd\n",
    "from pydub import AudioSegment\n",
    "import subprocess\n",
    "import mido"
   ]
  },
  {
   "cell_type": "code",
   "execution_count": 5,
   "id": "bbebe58c",
   "metadata": {},
   "outputs": [
    {
     "name": "stdout",
     "output_type": "stream",
     "text": [
      "done!\n"
     ]
    }
   ],
   "source": [
    "def reverse_midi(name, shift):\n",
    "    midi_data = pretty_midi.PrettyMIDI(name + '.mid')\n",
    "    notes_by_instruments = dict()\n",
    "    instrument_number = 0\n",
    "    instrument_types = dict()\n",
    "    min = 127\n",
    "    max = 0\n",
    "    for instrument in midi_data.instruments:\n",
    "        instrument_types[instrument_number] = instrument.program\n",
    "        partiture = []\n",
    "        for note in instrument.notes:\n",
    "            partiture.append([note.pitch, note.start, note.end, note.velocity])\n",
    "            if max < note.pitch:\n",
    "                max = note.pitch\n",
    "            if min > note.pitch:\n",
    "                min = note.pitch \n",
    "        notes_by_instruments[instrument_number] = partiture\n",
    "        instrument_number += 1\n",
    "    \n",
    "    reversed_midi = pretty_midi.PrettyMIDI()\n",
    "    for instrument_number in instrument_types:\n",
    "        partiture = pretty_midi.Instrument(program=instrument_types[instrument_number])\n",
    "        for row in notes_by_instruments[instrument_number]:\n",
    "            note = pretty_midi.Note(\n",
    "                velocity = int(row[3]),\n",
    "                pitch = int(max + min + shift - row[0]),\n",
    "                start = float(row[1]),\n",
    "                end = float(row[2]))\n",
    "            partiture.notes.append(note)\n",
    "        reversed_midi.instruments.append(partiture)\n",
    "        \n",
    "    reversed_midi.write(name + 'Reversed.mid')\n",
    "\n",
    "    \n",
    "# here input name of midi file and shift in half-tones\n",
    "song_name = 'ThemeB'\n",
    "reverse_midi(song_name, 16)\n",
    "print('done!')"
   ]
  },
  {
   "cell_type": "code",
   "execution_count": 8,
   "id": "47167f96",
   "metadata": {},
   "outputs": [
    {
     "name": "stderr",
     "output_type": "stream",
     "text": [
      "fluidsynth: warning: Instrument 'Honkytonk Piano': Some invalid generators were discarded\n"
     ]
    },
    {
     "name": "stdout",
     "output_type": "stream",
     "text": [
      "FluidSynth runtime version 2.2.5\n",
      "Copyright (C) 2000-2022 Peter Hanappe and others.\n",
      "Distributed under the LGPL license.\n",
      "SoundFont(R) is a registered trademark of Creative Technology Ltd.\n",
      "\n",
      "Rendering audio to file 'InTheEnd.wav'..\n"
     ]
    }
   ],
   "source": [
    "# Conversion\n",
    "fs = FluidSynth('weedsgm3.sf2')\n",
    "fs.midi_to_audio('InTheEnd.mid', 'InTheEnd.wav')\n",
    "warning: Instrument 'Honkytonk"
   ]
  },
  {
   "cell_type": "code",
   "execution_count": 9,
   "id": "c3ffcdd4",
   "metadata": {},
   "outputs": [
    {
     "name": "stdout",
     "output_type": "stream",
     "text": [
      "Conversion finished!\n"
     ]
    }
   ],
   "source": [
    "AudioSegment.from_wav('InTheEnd.wav').export('InTheEnd.mp3', format=\"mp3\")\n",
    "print(\"Conversion finished!\")"
   ]
  },
  {
   "cell_type": "code",
   "execution_count": null,
   "id": "ab4b5f72",
   "metadata": {},
   "outputs": [],
   "source": []
  },
  {
   "cell_type": "code",
   "execution_count": null,
   "id": "4e9b42ba",
   "metadata": {},
   "outputs": [],
   "source": []
  }
 ],
 "metadata": {
  "kernelspec": {
   "display_name": "Python 3 (ipykernel)",
   "language": "python",
   "name": "python3"
  },
  "language_info": {
   "codemirror_mode": {
    "name": "ipython",
    "version": 3
   },
   "file_extension": ".py",
   "mimetype": "text/x-python",
   "name": "python",
   "nbconvert_exporter": "python",
   "pygments_lexer": "ipython3",
   "version": "3.10.12"
  }
 },
 "nbformat": 4,
 "nbformat_minor": 5
}
